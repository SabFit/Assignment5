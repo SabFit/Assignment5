{
 "cells": [
  {
   "cell_type": "markdown",
   "id": "fa4335c5-1174-4021-9a7b-822e3fc11009",
   "metadata": {},
   "source": [
    "1. What does an empty dictionary's code look like?"
   ]
  },
  {
   "cell_type": "code",
   "execution_count": 1,
   "id": "ec75b8e2-ac24-49ce-948e-783fd0ec6688",
   "metadata": {},
   "outputs": [
    {
     "data": {
      "text/plain": [
       "{}"
      ]
     },
     "execution_count": 1,
     "metadata": {},
     "output_type": "execute_result"
    }
   ],
   "source": [
    "{}"
   ]
  },
  {
   "cell_type": "markdown",
   "id": "722b42df-3997-4066-9065-8e482eae1021",
   "metadata": {},
   "source": [
    "2. What is the value of a dictionary value with the key 'foo' and the value 42?"
   ]
  },
  {
   "cell_type": "code",
   "execution_count": 4,
   "id": "4dad015d-07e7-4344-a9e6-a30851de8372",
   "metadata": {},
   "outputs": [
    {
     "data": {
      "text/plain": [
       "42"
      ]
     },
     "execution_count": 4,
     "metadata": {},
     "output_type": "execute_result"
    }
   ],
   "source": [
    "42"
   ]
  },
  {
   "cell_type": "markdown",
   "id": "2f4867ea-9761-435b-a4e8-a669e2005f3a",
   "metadata": {},
   "source": [
    "3. What is the most significant distinction between a dictionary and a list?"
   ]
  },
  {
   "cell_type": "markdown",
   "id": "4916df95-0d8d-410a-9629-cb4cd1edff07",
   "metadata": {},
   "source": [
    "ans )Most significant difference:\n",
    "List - items in list are Ordered\n",
    "Dictionary : iten in dictionary are unordered"
   ]
  },
  {
   "cell_type": "markdown",
   "id": "213cc39d-e4e3-4dc8-b2c3-410d4b653adc",
   "metadata": {},
   "source": [
    "4. What happens if you try to access spam['foo'] if spam is {'bar': 100}?"
   ]
  },
  {
   "cell_type": "markdown",
   "id": "a7e8f92f-0034-42a6-9e19-a5c1f24fa0b3",
   "metadata": {},
   "source": [
    "it will end up in key error"
   ]
  },
  {
   "cell_type": "markdown",
   "id": "87eead64-b609-4295-a8db-df156d52dddb",
   "metadata": {},
   "source": [
    "5. If a dictionary is stored in spam, what is the difference between the expressions 'cat' in spam and 'cat' in spam.keys()?"
   ]
  },
  {
   "cell_type": "markdown",
   "id": "b6e2a963-b959-4754-b320-aa152e7bd22e",
   "metadata": {},
   "source": [
    "Ans .There is no difference, the expression \" 'cat' in spam \" checks whether 'cat' is a key in spam."
   ]
  },
  {
   "cell_type": "markdown",
   "id": "d2bc5ceb-52a5-4e28-ac59-dd2697b641bb",
   "metadata": {},
   "source": [
    "6. If a dictionary is stored in spam, what is the difference between the expressions 'cat' in spam and 'cat' in spam.values()?"
   ]
  },
  {
   "cell_type": "markdown",
   "id": "0a6078f5-c52f-41cb-a6eb-827cd42cfbee",
   "metadata": {},
   "source": [
    "Ans) \n",
    "spam.values() checks whether there is a value 'cat' for one of the keys in spam.\n",
    "     "
   ]
  },
  {
   "cell_type": "markdown",
   "id": "53bc3983-18a7-43d3-b420-f054bcb17cb6",
   "metadata": {},
   "source": [
    "7. What is a shortcut for the following code?\n",
    "\n",
    "if 'color' not in spam:\n",
    "spam['color'] = 'black'\n"
   ]
  },
  {
   "cell_type": "code",
   "execution_count": 4,
   "id": "1c5b0fa5-7aba-4833-a3ca-48cce175031d",
   "metadata": {},
   "outputs": [
    {
     "data": {
      "text/plain": [
       "{'cat': 100, 'color': 'black'}"
      ]
     },
     "execution_count": 4,
     "metadata": {},
     "output_type": "execute_result"
    }
   ],
   "source": [
    "spam ={'cat':100}\n",
    "spam.setdefault('color','black')\n",
    "spam\n",
    "\n"
   ]
  },
  {
   "cell_type": "markdown",
   "id": "1aaebc42-72b1-4d7d-b0f5-3478ce2d5e84",
   "metadata": {},
   "source": [
    "8. How do you \"pretty print\" dictionary values using which module and function?"
   ]
  },
  {
   "cell_type": "code",
   "execution_count": 11,
   "id": "5c9bed38-8ee0-497f-9718-ff56e3d75635",
   "metadata": {},
   "outputs": [],
   "source": [
    "import pprint\n",
    "dict = [ {'Car': 'Volkswagen', 'year': '2015', 'Country of origin': 'Germany'},\n",
    "  {'Car': 'BEnz', 'year': '1995', 'Country of origin': 'Germany'},\n",
    "  {'Car': 'Lambo', 'year': '1990', 'Country of origin': 'Italy'}\n",
    "]\n",
    "     "
   ]
  },
  {
   "cell_type": "code",
   "execution_count": 12,
   "id": "761d474f-4d19-4ba2-803d-e1e3f616139c",
   "metadata": {},
   "outputs": [
    {
     "name": "stdout",
     "output_type": "stream",
     "text": [
      "[{'Car': 'Volkswagen', 'Country of origin': 'Germany', 'year': '2015'},\n",
      " {'Car': 'BEnz', 'Country of origin': 'Germany', 'year': '1995'},\n",
      " {'Car': 'Lambo', 'Country of origin': 'Italy', 'year': '1990'}]\n"
     ]
    }
   ],
   "source": [
    "pprint.pprint(dict)"
   ]
  },
  {
   "cell_type": "code",
   "execution_count": null,
   "id": "80955c39-4e6f-4640-9c3f-4f22b3a89402",
   "metadata": {},
   "outputs": [],
   "source": []
  }
 ],
 "metadata": {
  "kernelspec": {
   "display_name": "Python 3 (ipykernel)",
   "language": "python",
   "name": "python3"
  },
  "language_info": {
   "codemirror_mode": {
    "name": "ipython",
    "version": 3
   },
   "file_extension": ".py",
   "mimetype": "text/x-python",
   "name": "python",
   "nbconvert_exporter": "python",
   "pygments_lexer": "ipython3",
   "version": "3.10.6"
  }
 },
 "nbformat": 4,
 "nbformat_minor": 5
}
